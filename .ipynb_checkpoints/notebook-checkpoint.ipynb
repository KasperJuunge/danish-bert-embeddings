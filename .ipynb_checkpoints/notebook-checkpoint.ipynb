{
 "cells": [
  {
   "cell_type": "code",
   "execution_count": 88,
   "metadata": {},
   "outputs": [],
   "source": [
    "import torch\n",
    "from transformers import BertConfig, BertTokenizer, BertModel\n",
    "\n",
    "# Init BERT configuration object\n",
    "bert_path = '/home/juunge/data/models/bert-base-danish'\n",
    "configuration = BertConfig.from_json_file(bert_path + '/config.json')\n",
    "\n",
    "# Init BERT tokenizer\n",
    "tokenizer = BertTokenizer(vocab_file=bert_path + '/vocab.txt', max_len=512)\n",
    "\n",
    "# Init BERT model from pretrained\n",
    "model = BertModel(config=configuration).from_pretrained(bert_path)\n",
    "\n"
   ]
  },
  {
   "cell_type": "code",
   "execution_count": 95,
   "metadata": {},
   "outputs": [
    {
     "data": {
      "text/plain": [
       "torch.Size([1, 24, 768])"
      ]
     },
     "execution_count": 95,
     "metadata": {},
     "output_type": "execute_result"
    }
   ],
   "source": [
    "text = 'Vi har mistet en af vores helt store digtere i Pia Juul, der er rejst efter kort tids sygdom.'\n",
    "text = 'På blot en uge har mere en 100 skrevet sig op'\n",
    "\n",
    "x = tokenizer(text, return_tensors='pt')\n",
    "y = model(**inputs)#, output_hidden_states=True)\n",
    "\n",
    "\n",
    "y[0].shape"
   ]
  },
  {
   "cell_type": "code",
   "execution_count": 92,
   "metadata": {},
   "outputs": [
    {
     "data": {
      "text/plain": [
       "torch.Size([1, 13])"
      ]
     },
     "execution_count": 92,
     "metadata": {},
     "output_type": "execute_result"
    }
   ],
   "source": [
    "x['input_ids'].shape"
   ]
  }
 ],
 "metadata": {
  "kernelspec": {
   "display_name": "Python 3",
   "language": "python",
   "name": "python3"
  },
  "language_info": {
   "codemirror_mode": {
    "name": "ipython",
    "version": 3
   },
   "file_extension": ".py",
   "mimetype": "text/x-python",
   "name": "python",
   "nbconvert_exporter": "python",
   "pygments_lexer": "ipython3",
   "version": "3.8.5"
  },
  "toc": {
   "base_numbering": 1,
   "nav_menu": {},
   "number_sections": true,
   "sideBar": true,
   "skip_h1_title": false,
   "title_cell": "Table of Contents",
   "title_sidebar": "Contents",
   "toc_cell": false,
   "toc_position": {},
   "toc_section_display": true,
   "toc_window_display": false
  }
 },
 "nbformat": 4,
 "nbformat_minor": 4
}

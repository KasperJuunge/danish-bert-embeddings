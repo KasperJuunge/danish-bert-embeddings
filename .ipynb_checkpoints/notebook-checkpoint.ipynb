{
 "cells": [
  {
   "cell_type": "code",
   "execution_count": 16,
   "metadata": {},
   "outputs": [
    {
     "name": "stderr",
     "output_type": "stream",
     "text": [
      "Some weights of the model checkpoint at /home/ec2-user/models/bert-base-danish/ were not used when initializing BertModel: ['bert.embeddings.position_ids']\n",
      "- This IS expected if you are initializing BertModel from the checkpoint of a model trained on another task or with another architecture (e.g. initializing a BertForSequenceClassification model from a BertForPretraining model).\n",
      "- This IS NOT expected if you are initializing BertModel from the checkpoint of a model that you expect to be exactly identical (initializing a BertForSequenceClassification model from a BertForSequenceClassification model).\n"
     ]
    }
   ],
   "source": [
    "import os\n",
    "from transformers import BertConfig, BertTokenizer, BertModel\n",
    "\n",
    "class BertEmbeddingsDK(object):\n",
    "    r\"\"\"Class for creating Danish BERT word and sentence on the fly.\"\"\"\n",
    "    \n",
    "    ## Get danish BERT on linux:\n",
    "    # 1. download           --> wget https://www.dropbox.com/s/19cjaoqvv2jicq9/danish_bert_uncased_v2.zip?dl=1\n",
    "    # 2. unzip              --> unzip danish_bert_uncased_v2.zip?dl=1\n",
    "    # 3. rm zipped          --> rm danish_bert_uncased_v2.zip\\?dl\\=1\n",
    "    # 4. rename             --> mv danish_bert_uncased_v2 bert-base-danish\n",
    "    # 5. convert to pytorch --> transformers-cli convert --model_type bert --tf_checkpoint ./bert-base-danish/bert_model.ckpt --config ./bert-base-danish/bert_config.json --pytorch_dump_output ./bert-base-danish/pytorch_model.bin\n",
    "    # 6. rename config      --> mv bert-base-danish/bert_config.json bert-base-danish/config.json    \n",
    "    \n",
    "    def __init__(self, bert_path=None):\n",
    "        if bert_path == None:\n",
    "            self.bert_path = './bert-base-danish/'\n",
    "        else:\n",
    "            self.bert_path = bert_path\n",
    "        \n",
    "        self.config = BertConfig.from_json_file(self.bert_path+'config.json')\n",
    "        self.tokenizer = BertTokenizer(vocab_file=self.bert_path+'vocab.txt')\n",
    "        self.model = BertModel(config=self.config).from_pretrained(self.bert_path)\n",
    "    \n",
    "    def create_embedding(self, text):\n",
    "        \n",
    "        tokenized = self.tokenizer(text, return_tensors='pt')\n",
    "        embedding = self.model(**tokenized)#, output_hidden_states=True)\n",
    "        \n",
    "        return embedding\n",
    "        \n",
    "        \n",
    "        \n",
    "embedder = BertEmbeddingsDK(bert_path='/home/ec2-user/models/bert-base-danish/')"
   ]
  },
  {
   "cell_type": "code",
   "execution_count": 18,
   "metadata": {},
   "outputs": [],
   "source": [
    "text = 'På blot en uge har mere en 100 skrevet sig op'\n",
    "embedding = embedder.create_embedding(text)"
   ]
  }
 ],
 "metadata": {
  "kernelspec": {
   "display_name": "venv",
   "language": "python",
   "name": "venv"
  },
  "language_info": {
   "codemirror_mode": {
    "name": "ipython",
    "version": 3
   },
   "file_extension": ".py",
   "mimetype": "text/x-python",
   "name": "python",
   "nbconvert_exporter": "python",
   "pygments_lexer": "ipython3",
   "version": "3.7.9"
  },
  "toc": {
   "base_numbering": 1,
   "nav_menu": {},
   "number_sections": true,
   "sideBar": true,
   "skip_h1_title": false,
   "title_cell": "Table of Contents",
   "title_sidebar": "Contents",
   "toc_cell": false,
   "toc_position": {},
   "toc_section_display": true,
   "toc_window_display": false
  }
 },
 "nbformat": 4,
 "nbformat_minor": 4
}

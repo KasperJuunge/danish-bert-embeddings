{
 "cells": [
  {
   "cell_type": "code",
   "execution_count": 66,
   "metadata": {
    "code_folding": [],
    "scrolled": true
   },
   "outputs": [
    {
     "name": "stdout",
     "output_type": "stream",
     "text": [
      "Checking required model files..\n",
      "Model was not found..\n",
      "Downloading danish BERT..\n",
      "Converting model to PyTorch..\n",
      "Loading model..\n"
     ]
    }
   ],
   "source": [
    "# https://mccormickml.com/2019/05/14/BERT-word-embeddings-tutorial/#3-extracting-embeddings\n",
    "\n",
    "import os\n",
    "import requests\n",
    "import torch\n",
    "from transformers import BertConfig, BertTokenizer, BertModel\n",
    "\n",
    "class BertEmbeddingsDK(object):\n",
    "    r\"\"\"Class for creating Danish BERT word and sentence on the fly.\"\"\"\n",
    "    \n",
    "    def __init__(self, bert_path=None):\n",
    "        \n",
    "        # Danish BERT url\n",
    "        self.url = 'https://www.dropbox.com/s/19cjaoqvv2jicq9/danish_bert_uncased_v2.zip?dl=1'\n",
    "        \n",
    "        # If custom model path\n",
    "        if bert_path == None: \n",
    "            self.bert_path = './bert-base-danish/'\n",
    "        else: \n",
    "            self.bert_path = bert_path\n",
    "            self._load_model()\n",
    "    \n",
    "        # Check model\n",
    "        pt_check, tf_check = self._check_model_files()\n",
    "        if pt_check:\n",
    "            self._load_model()\n",
    "        elif tf_check:\n",
    "            self._convert_to_pytorch()\n",
    "            self._load_model()\n",
    "        else:\n",
    "            self._download_danish_bert()\n",
    "            self._convert_to_pytorch()\n",
    "            self._load_model()\n",
    "        \n",
    "        \n",
    "    \n",
    "    def _check_model_files(self):\n",
    "        print('Checking required model files..')\n",
    "        tf_required_files = ['bert_model.ckpt.data-00000-of-00001', 'bert_model.ckpt.index',\n",
    "                             'bert_model.ckpt.meta', 'bert_config.json', 'vocab.txt']\n",
    "        pt_required_files = ['bert_model.ckpt.data-00000-of-00001', 'bert_model.ckpt.index',\n",
    "                             'bert_model.ckpt.meta', 'config.json', 'pytorch_model.bin', 'vocab.txt']\n",
    "        if os.path.isdir(self.bert_path):\n",
    "            pt_check = all([file in pt_required_files for file in os.listdir(self.bert_path)])\n",
    "            tf_check = all([file in tf_required_files for file in os.listdir(self.bert_path)])\n",
    "        else:\n",
    "            print('Model was not found..')\n",
    "            pt_check = False\n",
    "            tf_check = False\n",
    "\n",
    "        return pt_check, tf_check\n",
    "    \n",
    "            \n",
    "    def _load_model(self):\n",
    "        print('Loading model..')\n",
    "        self.config = BertConfig.from_json_file(self.bert_path+'config.json')\n",
    "        self.tokenizer = BertTokenizer(vocab_file=self.bert_path+'vocab.txt')\n",
    "        self.model = BertModel(config=self.config).from_pretrained(self.bert_path)\n",
    "        self.model.eval()\n",
    "        print('Ready for embedding!')\n",
    "    \n",
    "    def _convert_to_pytorch(self):\n",
    "        print('Converting model to PyTorch..')\n",
    "        os.system('transformers-cli convert --model_type bert --tf_checkpoint ./bert-base-danish/bert_model.ckpt --config ./bert-base-danish/bert_config.json --pytorch_dump_output ./bert-base-danish/pytorch_model.bin')\n",
    "        os.system('mv bert-base-danish/bert_config.json bert-base-danish/config.json')\n",
    "        return None\n",
    "    \n",
    "    def _download_danish_bert(self):\n",
    "        print('Downloading danish BERT (this may take some time ^^)..')\n",
    "        r = requests.get(self.url, allow_redirects=True)\n",
    "        open('bert-base-danish.zip', 'wb').write(r.content)\n",
    "        os.system('unzip bert-base-danish.zip')\n",
    "        os.system('mv danish_bert_uncased_v2 bert-base-danish')\n",
    "        os.system('rm bert-base-danish.zip')\n",
    "        os.system('rm -rf __MACOSX')\n",
    "        return None\n",
    "    \n",
    "    def _embedding_method(self):\n",
    "        # bla bla sum + avg last x layers\n",
    "        return None\n",
    "    \n",
    "    def embed(self, text, print_num_tokens=False):\n",
    "        \n",
    "        tokenized = self.tokenizer(text, return_tensors='pt')\n",
    "        if print_num_tokens: print(tokenized['input_ids'].shape)\n",
    "        with torch.no_grad():\n",
    "            output = self.model(**tokenized, output_hidden_states=True)\n",
    "        \n",
    "        hidden_states = torch.cat(output[2])\n",
    "        hidden_states = hidden_states.permute(1,0,2) # re-arrange dimensions: [token, layer, embedding_dim]\n",
    "        \n",
    "        return hidden_states\n",
    "        \n",
    "        \n",
    "        \n",
    "embedder = BertEmbeddingsDK()\n",
    "\n",
    "\n"
   ]
  },
  {
   "cell_type": "code",
   "execution_count": 68,
   "metadata": {},
   "outputs": [
    {
     "data": {
      "text/plain": [
       "torch.Size([69, 13, 768])"
      ]
     },
     "execution_count": 68,
     "metadata": {},
     "output_type": "execute_result"
    }
   ],
   "source": [
    "text = 'Igen en sober og saglig dialog. I lytter til gæsten og I underspiller ikke det komplekse i, at deltagelse i en bæredygtig rejse kun kræver omtanke og et valg.... helt nede i de små detaljer. Tøv ikke - Bare få begyndt! Og så er der udfordringerne ... tankevækkende at lytte med på'\n",
    "hidden_states = embedder.embed(text, print_num_tokens=False)\n",
    "hidden_states.shape"
   ]
  },
  {
   "cell_type": "markdown",
   "metadata": {},
   "source": [
    "## Download and convert Danish BERT"
   ]
  },
  {
   "cell_type": "code",
   "execution_count": 49,
   "metadata": {},
   "outputs": [
    {
     "data": {
      "text/plain": [
       "1222631135"
      ]
     },
     "execution_count": 49,
     "metadata": {},
     "output_type": "execute_result"
    }
   ],
   "source": [
    "\n",
    "\n",
    "# Download Danish Bert\n",
    "url = 'https://www.dropbox.com/s/19cjaoqvv2jicq9/danish_bert_uncased_v2.zip?dl=1'\n",
    "r = requests.get(url, allow_redirects=True)\n",
    "open('bert-base-danish.zip', 'wb').write(r.content)\n",
    "\n",
    "\n",
    "os.system('unzip bert-base-danish.zip')\n",
    "os.system('mv danish_bert_uncased_v2 bert-base-danish')\n",
    "os.system('rm bert-base-danish.zip')\n",
    "os.system('rm -rf __MACOSX')\n",
    "os.system('transformers-cli convert --model_type bert --tf_checkpoint ./bert-base-danish/bert_model.ckpt --config ./bert-base-danish/bert_config.json --pytorch_dump_output ./bert-base-danish/pytorch_model.bin')\n",
    "os.system('mv bert-base-danish/bert_config.json bert-base-danish/config.json')\n",
    "\n",
    "\n",
    "## Get danish BERT on linux:\n",
    "    # 1. download           --> wget https://www.dropbox.com/s/19cjaoqvv2jicq9/danish_bert_uncased_v2.zip?dl=1\n",
    "    # 2. unzip              --> unzip danish_bert_uncased_v2.zip?dl=1\n",
    "    # 3. rm zipped          --> rm danish_bert_uncased_v2.zip\\?dl\\=1\n",
    "    # 4. rename             --> mv danish_bert_uncased_v2 bert-base-danish\n",
    "    # 5. convert to pytorch --> transformers-cli convert --model_type bert --tf_checkpoint ./bert-base-danish/bert_model.ckpt --config ./bert-base-danish/bert_config.json --pytorch_dump_output ./bert-base-danish/pytorch_model.bin\n",
    "    # 6. rename config      --> mv bert-base-danish/bert_config.json bert-base-danish/config.json    \n",
    "    "
   ]
  },
  {
   "cell_type": "code",
   "execution_count": 56,
   "metadata": {},
   "outputs": [],
   "source": [
    "import os\n",
    "tf_required_files = ['bert_model.ckpt.data-00000-of-00001', 'bert_model.ckpt.index',\n",
    "                     'bert_model.ckpt.meta', 'bert_config.json', 'vocab.txt']\n",
    "\n",
    "pt_required_files = ['bert_model.ckpt.data-00000-of-00001', 'bert_model.ckpt.index',\n",
    "                     'bert_model.ckpt.meta', 'config.json', \n",
    "                     'pytorch_model.bin', 'vocab.txt']\n",
    "\n",
    "\n",
    "if os.path.isdir('./bert-base-danish'):\n",
    "    pt_check = [file in pt_required_files for file in os.listdir('/home/juunge/models/bert-base-danish/')]\n",
    "    tf_check = [file in tf_required_files for file in os.listdir('/home/juunge/models/bert-base-danish/')]\n",
    "\n",
    "    if all(pt_check):\n",
    "        _load_model()\n",
    "    elif all(tf_check):\n",
    "        _convert_model()\n",
    "        _load_model()\n",
    "    else:\n",
    "        pass\n",
    "\n",
    "    print(pt_check)\n",
    "    print(tf_check)"
   ]
  },
  {
   "cell_type": "code",
   "execution_count": null,
   "metadata": {},
   "outputs": [],
   "source": []
  }
 ],
 "metadata": {
  "kernelspec": {
   "display_name": "Python 3",
   "language": "python",
   "name": "python3"
  },
  "language_info": {
   "codemirror_mode": {
    "name": "ipython",
    "version": 3
   },
   "file_extension": ".py",
   "mimetype": "text/x-python",
   "name": "python",
   "nbconvert_exporter": "python",
   "pygments_lexer": "ipython3",
   "version": "3.8.5"
  },
  "toc": {
   "base_numbering": 1,
   "nav_menu": {},
   "number_sections": true,
   "sideBar": true,
   "skip_h1_title": false,
   "title_cell": "Table of Contents",
   "title_sidebar": "Contents",
   "toc_cell": false,
   "toc_position": {},
   "toc_section_display": true,
   "toc_window_display": false
  }
 },
 "nbformat": 4,
 "nbformat_minor": 4
}

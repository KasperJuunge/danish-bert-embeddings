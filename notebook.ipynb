{
 "cells": [
  {
   "cell_type": "code",
   "execution_count": 58,
   "metadata": {
    "code_folding": []
   },
   "outputs": [],
   "source": [
    "import os\n",
    "from transformers import BertConfig, BertTokenizer, BertModel\n",
    "\n",
    "class BertEmbeddingsDK(object):\n",
    "    r\"\"\"Class for creating Danish BERT word and sentence on the fly.\"\"\"\n",
    "    \n",
    "    def __init__(self, bert_path=None):\n",
    "        \n",
    "        \n",
    "        self.url = 'https://www.dropbox.com/s/19cjaoqvv2jicq9/danish_bert_uncased_v2.zip?dl=1'\n",
    "        if bert_path == None: \n",
    "            self.bert_path = './bert-base-danish/'\n",
    "        else: \n",
    "            self.bert_path = bert_path        \n",
    "            \n",
    "        # Handle model\n",
    "        if os.path.isfile(self.bert_path + 'pytorch_model.bin'):\n",
    "            _load_model()\n",
    "        elif # ALL MODEL FILES IN TF:\n",
    "            # convert model to pytorch\n",
    "        else:\n",
    "            # download\n",
    "            # osv.\n",
    "            \n",
    "            \n",
    "        \n",
    "        \n",
    "            \n",
    "    def _load_model(self):\n",
    "        self.config = BertConfig.from_json_file(self.bert_path+'config.json')\n",
    "        self.tokenizer = BertTokenizer(vocab_file=self.bert_path+'vocab.txt')\n",
    "        self.model = BertModel(config=self.config).from_pretrained(self.bert_path)\n",
    "        \n",
    "    \n",
    "    def create_embedding(self, text, print_num_tokens=False):\n",
    "        \n",
    "        tokenized = self.tokenizer(text, return_tensors='pt')\n",
    "        if print_num_tokens: print(tokenized['input_ids'].shape)\n",
    "        embedding = self.model(**tokenized, output_hidden_states=True)\n",
    "        \n",
    "        return embedding\n",
    "        \n",
    "        \n",
    "        \n",
    "embedder = BertEmbeddingsDK()#bert_path='/home/juunge/models/bert-base-danish/')"
   ]
  },
  {
   "cell_type": "code",
   "execution_count": 59,
   "metadata": {},
   "outputs": [
    {
     "name": "stdout",
     "output_type": "stream",
     "text": [
      "torch.Size([1, 69])\n"
     ]
    }
   ],
   "source": [
    "text = 'Igen en sober og saglig dialog. I lytter til gæsten og I underspiller ikke det komplekse i, at deltagelse i en bæredygtig rejse kun kræver omtanke og et valg.... helt nede i de små detaljer. Tøv ikke - Bare få begyndt! Og så er der udfordringerne ... tankevækkende at lytte med på'\n",
    "embedding = embedder.create_embedding(text, print_num_tokens=True)"
   ]
  },
  {
   "cell_type": "code",
   "execution_count": 48,
   "metadata": {
    "scrolled": true
   },
   "outputs": [
    {
     "name": "stdout",
     "output_type": "stream",
     "text": [
      "Output lenght: 3\n",
      "\n",
      "Dim1 shape: torch.Size([1, 69, 768])\n",
      "\n",
      "Dim2 shape: torch.Size([1, 768])\n",
      "\n",
      "\n",
      "Dim3 length: 13\n",
      "Dim3, Dimn shape: torch.Size([1, 69, 768])\n"
     ]
    }
   ],
   "source": [
    "print('Output lenght:', len(embedding))\n",
    "\n",
    "print('\\nDim1 shape:', embedding[0].shape)\n",
    "\n",
    "print('\\nDim2 shape:', embedding[1].shape)\n",
    "\n",
    "print('\\n\\nDim3 length:',len(embedding[2]))\n",
    "print('Dim3, Dimn shape:', embedding[2][12].shape)\n",
    "\n",
    "\n",
    "# Hidden layers out[2][0-12]"
   ]
  },
  {
   "cell_type": "markdown",
   "metadata": {},
   "source": [
    "## Download and convert Danish BERT"
   ]
  },
  {
   "cell_type": "code",
   "execution_count": 49,
   "metadata": {},
   "outputs": [
    {
     "data": {
      "text/plain": [
       "1222631135"
      ]
     },
     "execution_count": 49,
     "metadata": {},
     "output_type": "execute_result"
    }
   ],
   "source": [
    "import requests\n",
    "import os\n",
    "\n",
    "# Download Danish Bert\n",
    "url = 'https://www.dropbox.com/s/19cjaoqvv2jicq9/danish_bert_uncased_v2.zip?dl=1'\n",
    "r = requests.get(url, allow_redirects=True)\n",
    "open('bert-base-danish.zip', 'wb').write(r.content)\n",
    "\n",
    "\n",
    "os.system('unzip bert-base-danish.zip')\n",
    "os.system('mv danish_bert_uncased_v2 bert-base-danish')\n",
    "os.system('rm bert-base-danish.zip')\n",
    "os.system('rm -rf __MACOSX')\n",
    "os.system('transformers-cli convert --model_type bert --tf_checkpoint ./bert-base-danish/bert_model.ckpt --config ./bert-base-danish/bert_config.json --pytorch_dump_output ./bert-base-danish/pytorch_model.bin')\n",
    "os.system('mv bert-base-danish/bert_config.json bert-base-danish/config.json')\n",
    "\n",
    "\n",
    "## Get danish BERT on linux:\n",
    "    # 1. download           --> wget https://www.dropbox.com/s/19cjaoqvv2jicq9/danish_bert_uncased_v2.zip?dl=1\n",
    "    # 2. unzip              --> unzip danish_bert_uncased_v2.zip?dl=1\n",
    "    # 3. rm zipped          --> rm danish_bert_uncased_v2.zip\\?dl\\=1\n",
    "    # 4. rename             --> mv danish_bert_uncased_v2 bert-base-danish\n",
    "    # 5. convert to pytorch --> transformers-cli convert --model_type bert --tf_checkpoint ./bert-base-danish/bert_model.ckpt --config ./bert-base-danish/bert_config.json --pytorch_dump_output ./bert-base-danish/pytorch_model.bin\n",
    "    # 6. rename config      --> mv bert-base-danish/bert_config.json bert-base-danish/config.json    \n",
    "    "
   ]
  }
 ],
 "metadata": {
  "kernelspec": {
   "display_name": "Python 3",
   "language": "python",
   "name": "python3"
  },
  "language_info": {
   "codemirror_mode": {
    "name": "ipython",
    "version": 3
   },
   "file_extension": ".py",
   "mimetype": "text/x-python",
   "name": "python",
   "nbconvert_exporter": "python",
   "pygments_lexer": "ipython3",
   "version": "3.8.5"
  },
  "toc": {
   "base_numbering": 1,
   "nav_menu": {},
   "number_sections": true,
   "sideBar": true,
   "skip_h1_title": false,
   "title_cell": "Table of Contents",
   "title_sidebar": "Contents",
   "toc_cell": false,
   "toc_position": {},
   "toc_section_display": true,
   "toc_window_display": false
  }
 },
 "nbformat": 4,
 "nbformat_minor": 4
}

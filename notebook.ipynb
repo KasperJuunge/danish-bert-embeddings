{
 "cells": [
  {
   "cell_type": "code",
   "execution_count": 2,
   "metadata": {
    "code_folding": [],
    "scrolled": true
   },
   "outputs": [
    {
     "name": "stdout",
     "output_type": "stream",
     "text": [
      "Checking required model files..\n",
      "Loading model..\n",
      "Ready for creating awesome embeddings!\n"
     ]
    }
   ],
   "source": [
    "# https://mccormickml.com/2019/05/14/BERT-word-embeddings-tutorial/#3-extracting-embeddings\n",
    "\n",
    "import os\n",
    "import numpy as np\n",
    "import requests\n",
    "import torch\n",
    "from sklearn.metrics.pairwise import cosine_similarity\n",
    "from transformers import BertConfig, BertTokenizer, BertModel\n",
    "from danish_bert_embeddings import BertEmbeddingsDK\n",
    "\n",
    "bert = BertEmbeddingsDK()\n"
   ]
  },
  {
   "cell_type": "markdown",
   "metadata": {},
   "source": [
    "### Sanity check embeddings"
   ]
  },
  {
   "cell_type": "code",
   "execution_count": 3,
   "metadata": {},
   "outputs": [],
   "source": [
    "fodbold_1 = 'Har ik spillet siden marts men scorer enormt millionbeløb Mesut Özil har trods manglende spilletid fået udbetalt en loyalitetsbonus på omkring 65 millioner danske kroner'\n",
    "fodbold_2 = ' Har du undret dig: Derfor er Ståle helt tavs Ståle Solbakken udtaler sig formentlig først, når hans slutpakke er forhandlet helt på plads med FCK. Nordmanden har i princippet 27 mio. kr. til gode'\n",
    "noget_helt_andet = 'Demens-chok: Min far kan ikke kende mig Ramt af demens: Silas Holst savner den far, han kendte'"
   ]
  },
  {
   "cell_type": "code",
   "execution_count": 68,
   "metadata": {},
   "outputs": [
    {
     "name": "stdout",
     "output_type": "stream",
     "text": [
      "Similarity between æble and banan:  0.8237603902816772\n",
      "Similarity between æble and realkredit:  0.518269419670105\n"
     ]
    }
   ],
   "source": [
    "x_word = 'æble'\n",
    "y_word = 'banan'\n",
    "z_word = 'realkredit'\n",
    "\n",
    "x = bert.embed(x_word)\n",
    "y = bert.embed(y_word)\n",
    "z = bert.embed(z_word)\n",
    "\n",
    "print(f'Similarity between {x_word} and {y_word}: ', cosine_similarity(x,y).item())\n",
    "print(f'Similarity between {x_word} and {z_word}: ', cosine_similarity(x,z).item())"
   ]
  },
  {
   "cell_type": "code",
   "execution_count": 18,
   "metadata": {},
   "outputs": [
    {
     "data": {
      "text/plain": [
       "array([[0.7389671]], dtype=float32)"
      ]
     },
     "execution_count": 18,
     "metadata": {},
     "output_type": "execute_result"
    }
   ],
   "source": [
    "cosine_similarity(y,z)"
   ]
  },
  {
   "cell_type": "code",
   "execution_count": null,
   "metadata": {},
   "outputs": [],
   "source": [
    "text = 'Igen en sober og saglig dialog. I lytter til gæsten og I underspiller ikke det komplekse i, at deltagelse i en bæredygtig rejse kun kræver omtanke og et valg.... helt nede i de små detaljer. Tøv ikke - Bare få begyndt! Og så er der udfordringerne ... tankevækkende at lytte med på'\n",
    "hidden_states = embedder.embed(text, print_num_tokens=False)\n",
    "hidden_states.shape"
   ]
  },
  {
   "cell_type": "markdown",
   "metadata": {},
   "source": [
    "## Download and convert Danish BERT"
   ]
  },
  {
   "cell_type": "code",
   "execution_count": null,
   "metadata": {},
   "outputs": [],
   "source": [
    "\n",
    "\n",
    "# Download Danish Bert\n",
    "url = 'https://www.dropbox.com/s/19cjaoqvv2jicq9/danish_bert_uncased_v2.zip?dl=1'\n",
    "r = requests.get(url, allow_redirects=True)\n",
    "open('bert-base-danish.zip', 'wb').write(r.content)\n",
    "\n",
    "\n",
    "os.system('unzip bert-base-danish.zip')\n",
    "os.system('mv danish_bert_uncased_v2 bert-base-danish')\n",
    "os.system('rm bert-base-danish.zip')\n",
    "os.system('rm -rf __MACOSX')\n",
    "os.system('transformers-cli convert --model_type bert --tf_checkpoint ./bert-base-danish/bert_model.ckpt --config ./bert-base-danish/bert_config.json --pytorch_dump_output ./bert-base-danish/pytorch_model.bin')\n",
    "os.system('mv bert-base-danish/bert_config.json bert-base-danish/config.json')\n",
    "\n",
    "\n",
    "## Get danish BERT on linux:\n",
    "    # 1. download           --> wget https://www.dropbox.com/s/19cjaoqvv2jicq9/danish_bert_uncased_v2.zip?dl=1\n",
    "    # 2. unzip              --> unzip danish_bert_uncased_v2.zip?dl=1\n",
    "    # 3. rm zipped          --> rm danish_bert_uncased_v2.zip\\?dl\\=1\n",
    "    # 4. rename             --> mv danish_bert_uncased_v2 bert-base-danish\n",
    "    # 5. convert to pytorch --> transformers-cli convert --model_type bert --tf_checkpoint ./bert-base-danish/bert_model.ckpt --config ./bert-base-danish/bert_config.json --pytorch_dump_output ./bert-base-danish/pytorch_model.bin\n",
    "    # 6. rename config      --> mv bert-base-danish/bert_config.json bert-base-danish/config.json    \n",
    "    "
   ]
  },
  {
   "cell_type": "code",
   "execution_count": null,
   "metadata": {},
   "outputs": [],
   "source": [
    "import os\n",
    "tf_required_files = ['bert_model.ckpt.data-00000-of-00001', 'bert_model.ckpt.index',\n",
    "                     'bert_model.ckpt.meta', 'bert_config.json', 'vocab.txt']\n",
    "\n",
    "pt_required_files = ['bert_model.ckpt.data-00000-of-00001', 'bert_model.ckpt.index',\n",
    "                     'bert_model.ckpt.meta', 'config.json', \n",
    "                     'pytorch_model.bin', 'vocab.txt']\n",
    "\n",
    "\n",
    "if os.path.isdir('./bert-base-danish'):\n",
    "    pt_check = [file in pt_required_files for file in os.listdir('/home/juunge/models/bert-base-danish/')]\n",
    "    tf_check = [file in tf_required_files for file in os.listdir('/home/juunge/models/bert-base-danish/')]\n",
    "\n",
    "    if all(pt_check):\n",
    "        _load_model()\n",
    "    elif all(tf_check):\n",
    "        _convert_model()\n",
    "        _load_model()\n",
    "    else:\n",
    "        pass\n",
    "\n",
    "    print(pt_check)\n",
    "    print(tf_check)"
   ]
  },
  {
   "cell_type": "code",
   "execution_count": null,
   "metadata": {},
   "outputs": [],
   "source": []
  }
 ],
 "metadata": {
  "kernelspec": {
   "display_name": "Python 3",
   "language": "python",
   "name": "python3"
  },
  "language_info": {
   "codemirror_mode": {
    "name": "ipython",
    "version": 3
   },
   "file_extension": ".py",
   "mimetype": "text/x-python",
   "name": "python",
   "nbconvert_exporter": "python",
   "pygments_lexer": "ipython3",
   "version": "3.8.5"
  },
  "toc": {
   "base_numbering": 1,
   "nav_menu": {},
   "number_sections": true,
   "sideBar": true,
   "skip_h1_title": false,
   "title_cell": "Table of Contents",
   "title_sidebar": "Contents",
   "toc_cell": false,
   "toc_position": {},
   "toc_section_display": true,
   "toc_window_display": false
  }
 },
 "nbformat": 4,
 "nbformat_minor": 4
}
